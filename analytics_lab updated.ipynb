{
  "nbformat": 4,
  "nbformat_minor": 0,
  "metadata": {
    "colab": {
      "provenance": []
    },
    "kernelspec": {
      "name": "python3",
      "display_name": "Python 3"
    },
    "language_info": {
      "name": "python"
    }
  },
  "cells": [
    {
      "cell_type": "code",
      "execution_count": null,
      "metadata": {
        "id": "eaWTHQNkPZuy",
        "colab": {
          "base_uri": "https://localhost:8080/"
        },
        "outputId": "59a2974a-4715-42c4-b43e-831e3261860f"
      },
      "outputs": [
        {
          "output_type": "stream",
          "name": "stdout",
          "text": [
            "Looking in indexes: https://pypi.org/simple, https://us-python.pkg.dev/colab-wheels/public/simple/\n",
            "Requirement already satisfied: pyspark in /usr/local/lib/python3.10/dist-packages (3.4.0)\n",
            "Requirement already satisfied: py4j==0.10.9.7 in /usr/local/lib/python3.10/dist-packages (from pyspark) (0.10.9.7)\n"
          ]
        }
      ],
      "source": [
        "pip install pyspark"
      ]
    },
    {
      "cell_type": "code",
      "source": [
        "#@title Default title text\n",
        "## Download Input dataset for analytics\n",
        "# https://propensity-labs-screening.s3.amazonaws.com/analytics/analytics_input.csv"
      ],
      "metadata": {
        "id": "OrMgxoJdS4iE"
      },
      "execution_count": null,
      "outputs": []
    },
    {
      "cell_type": "code",
      "source": [
        "#Create Spark Session\n",
        "from pyspark.sql import SparkSession\n",
        "\n",
        "spark = SparkSession.builder.appName(\"CSV Download\").getOrCreate()"
      ],
      "metadata": {
        "id": "bJYXF2LoQTDy"
      },
      "execution_count": null,
      "outputs": []
    },
    {
      "cell_type": "code",
      "source": [
        "#Read CSV to Dataframe\n",
        "df = spark.read.csv(\"sample_data/analytics_input.csv\",header=True, inferSchema=True)"
      ],
      "metadata": {
        "id": "6vynaG5uQVpa"
      },
      "execution_count": null,
      "outputs": []
    },
    {
      "cell_type": "code",
      "source": [
        "#Display Scheme\n",
        "df.printSchema()"
      ],
      "metadata": {
        "id": "EgVO9UBuQYNi",
        "colab": {
          "base_uri": "https://localhost:8080/"
        },
        "outputId": "bf7c0964-2e40-47d2-e83c-4990b2782037"
      },
      "execution_count": null,
      "outputs": [
        {
          "output_type": "stream",
          "name": "stdout",
          "text": [
            "root\n",
            " |-- DRG Definition: string (nullable = true)\n",
            " |-- Provider Id: string (nullable = true)\n",
            " |-- Provider Name: string (nullable = true)\n",
            " |-- Provider Street Address: string (nullable = true)\n",
            " |-- Provider City: string (nullable = true)\n",
            " |-- Provider State: string (nullable = true)\n",
            " |-- Provider Zip Code: integer (nullable = true)\n",
            " |-- Hospital Referral Region Description: string (nullable = true)\n",
            " |--  Total Discharges : integer (nullable = true)\n",
            " |--  Average Covered Charges : string (nullable = true)\n",
            " |--  Average Total Payments : string (nullable = true)\n",
            " |-- Average Medicare Payments: string (nullable = true)\n",
            "\n"
          ]
        }
      ]
    },
    {
      "cell_type": "code",
      "source": [
        "#Change Column names to remove spaces, lower case and replace spaces in column names with \"_\" (underscore)\n",
        "\n",
        "df_new = df.toDF(*(c.lower().strip().replace(' ', '_') for c in df.columns))\n",
        "df_new.printSchema()\n",
        "df_new.head(10)"
      ],
      "metadata": {
        "id": "O8yoK7csQbyc",
        "colab": {
          "base_uri": "https://localhost:8080/"
        },
        "outputId": "99296c51-7f42-4d99-907e-2686fe877d8e"
      },
      "execution_count": null,
      "outputs": [
        {
          "output_type": "stream",
          "name": "stdout",
          "text": [
            "root\n",
            " |-- drg_definition: string (nullable = true)\n",
            " |-- provider_id: string (nullable = true)\n",
            " |-- provider_name: string (nullable = true)\n",
            " |-- provider_street_address: string (nullable = true)\n",
            " |-- provider_city: string (nullable = true)\n",
            " |-- provider_state: string (nullable = true)\n",
            " |-- provider_zip_code: integer (nullable = true)\n",
            " |-- hospital_referral_region_description: string (nullable = true)\n",
            " |-- total_discharges: integer (nullable = true)\n",
            " |-- average_covered_charges: string (nullable = true)\n",
            " |-- average_total_payments: string (nullable = true)\n",
            " |-- average_medicare_payments: string (nullable = true)\n",
            "\n"
          ]
        },
        {
          "output_type": "execute_result",
          "data": {
            "text/plain": [
              "[Row(drg_definition='039 - EXTRACRANIAL PROCEDURES W/O CC/MCC', provider_id='10001', provider_name='SOUTHEAST ALABAMA MEDICAL CENTER', provider_street_address='1108 ROSS CLARK CIRCLE', provider_city='DOTHAN', provider_state='AL', provider_zip_code=36301, hospital_referral_region_description='AL - Dothan', total_discharges=91, average_covered_charges='$32963.07', average_total_payments='$5777.24', average_medicare_payments='$4763.73'),\n",
              " Row(drg_definition='039 - EXTRACRANIAL PROCEDURES W/O CC/MCC', provider_id='10005', provider_name='MARSHALL MEDICAL CENTER SOUTH', provider_street_address='2505 U S HIGHWAY 431 NORTH', provider_city='BOAZ', provider_state='AL', provider_zip_code=35957, hospital_referral_region_description='AL - Birmingham', total_discharges=14, average_covered_charges='$15131.85', average_total_payments='$5787.57', average_medicare_payments='$4976.71'),\n",
              " Row(drg_definition='039 - EXTRACRANIAL PROCEDURES W/O CC/MCC', provider_id='10006', provider_name='ELIZA COFFEE MEMORIAL HOSPITAL', provider_street_address='205 MARENGO STREET', provider_city='FLORENCE', provider_state='AL', provider_zip_code=35631, hospital_referral_region_description='AL - Birmingham', total_discharges=24, average_covered_charges='$37560.37', average_total_payments='$5434.95', average_medicare_payments='$4453.79'),\n",
              " Row(drg_definition='039 - EXTRACRANIAL PROCEDURES W/O CC/MCC', provider_id='10011', provider_name=\"ST VINCENT'S EAST\", provider_street_address='50 MEDICAL PARK EAST DRIVE', provider_city='BIRMINGHAM', provider_state='AL', provider_zip_code=35235, hospital_referral_region_description='AL - Birmingham', total_discharges=25, average_covered_charges='$13998.28', average_total_payments='$5417.56', average_medicare_payments='$4129.16'),\n",
              " Row(drg_definition='039 - EXTRACRANIAL PROCEDURES W/O CC/MCC', provider_id='10016', provider_name='SHELBY BAPTIST MEDICAL CENTER', provider_street_address='1000 FIRST STREET NORTH', provider_city='ALABASTER', provider_state='AL', provider_zip_code=35007, hospital_referral_region_description='AL - Birmingham', total_discharges=18, average_covered_charges='$31633.27', average_total_payments='$5658.33', average_medicare_payments='$4851.44'),\n",
              " Row(drg_definition='039 - EXTRACRANIAL PROCEDURES W/O CC/MCC', provider_id='10023', provider_name='BAPTIST MEDICAL CENTER SOUTH', provider_street_address='2105 EAST SOUTH BOULEVARD', provider_city='MONTGOMERY', provider_state='AL', provider_zip_code=36116, hospital_referral_region_description='AL - Montgomery', total_discharges=67, average_covered_charges='$16920.79', average_total_payments='$6653.80', average_medicare_payments='$5374.14'),\n",
              " Row(drg_definition='039 - EXTRACRANIAL PROCEDURES W/O CC/MCC', provider_id='10029', provider_name='EAST ALABAMA MEDICAL CENTER AND SNF', provider_street_address='2000 PEPPERELL PARKWAY', provider_city='OPELIKA', provider_state='AL', provider_zip_code=36801, hospital_referral_region_description='AL - Birmingham', total_discharges=51, average_covered_charges='$11977.13', average_total_payments='$5834.74', average_medicare_payments='$4761.41'),\n",
              " Row(drg_definition='039 - EXTRACRANIAL PROCEDURES W/O CC/MCC', provider_id='10033', provider_name='UNIVERSITY OF ALABAMA HOSPITAL', provider_street_address='619 SOUTH 19TH STREET', provider_city='BIRMINGHAM', provider_state='AL', provider_zip_code=35233, hospital_referral_region_description='AL - Birmingham', total_discharges=32, average_covered_charges='$35841.09', average_total_payments='$8031.12', average_medicare_payments='$5858.50'),\n",
              " Row(drg_definition='039 - EXTRACRANIAL PROCEDURES W/O CC/MCC', provider_id='10039', provider_name='HUNTSVILLE HOSPITAL', provider_street_address='101 SIVLEY RD', provider_city='HUNTSVILLE', provider_state='AL', provider_zip_code=35801, hospital_referral_region_description='AL - Huntsville', total_discharges=135, average_covered_charges='$28523.39', average_total_payments='$6113.38', average_medicare_payments='$5228.40'),\n",
              " Row(drg_definition='039 - EXTRACRANIAL PROCEDURES W/O CC/MCC', provider_id='10040', provider_name='GADSDEN REGIONAL MEDICAL CENTER', provider_street_address='1007 GOODYEAR AVENUE', provider_city='GADSDEN', provider_state='AL', provider_zip_code=35903, hospital_referral_region_description='AL - Birmingham', total_discharges=34, average_covered_charges='$75233.38', average_total_payments='$5541.05', average_medicare_payments='$4386.94')]"
            ]
          },
          "metadata": {},
          "execution_count": 136
        }
      ]
    },
    {
      "cell_type": "code",
      "source": [
        "from pyspark.sql.functions import col\n",
        "#Identify all rows with Null values for provider id\n",
        "null_provider_id_df = df_new.filter(col(\"provider_id\").isNull())\n",
        "null_provider_id_df.show()"
      ],
      "metadata": {
        "id": "DXRoYwGVQjHK",
        "colab": {
          "base_uri": "https://localhost:8080/"
        },
        "outputId": "cc3ad041-815d-4b93-fd83-e1acb75dc94b"
      },
      "execution_count": null,
      "outputs": [
        {
          "output_type": "stream",
          "name": "stdout",
          "text": [
            "+--------------+-----------+-------------+-----------------------+-------------+--------------+-----------------+------------------------------------+----------------+-----------------------+----------------------+-------------------------+\n",
            "|drg_definition|provider_id|provider_name|provider_street_address|provider_city|provider_state|provider_zip_code|hospital_referral_region_description|total_discharges|average_covered_charges|average_total_payments|average_medicare_payments|\n",
            "+--------------+-----------+-------------+-----------------------+-------------+--------------+-----------------+------------------------------------+----------------+-----------------------+----------------------+-------------------------+\n",
            "+--------------+-----------+-------------+-----------------------+-------------+--------------+-----------------+------------------------------------+----------------+-----------------------+----------------------+-------------------------+\n",
            "\n"
          ]
        }
      ]
    },
    {
      "cell_type": "code",
      "source": [
        "#Change fields with Payment information into numbers by using Lambda functions in python\n",
        "from pyspark.sql.functions import udf\n",
        "from pyspark.sql.types import DoubleType\n",
        "\n",
        "# define a lambda function to convert payment information to numeric format\n",
        "to_numeric = lambda col: float(col.replace(\"$\", \"\"))\n",
        "\n",
        "# apply the lambda function to the payment fields\n",
        "df_new = df_new.withColumn(\"average_total_payments\", udf(to_numeric)('average_total_payments')).withColumn(\"average_covered_charges\", udf(to_numeric)('average_covered_charges')).withColumn(\"average_medicare_payments\", udf(to_numeric)('average_medicare_payments'))\n",
        "\n",
        "# show the resulting dataframe\n",
        "df_new.show()\n",
        "\n",
        "\n",
        "\n"
      ],
      "metadata": {
        "id": "zF-wpjH2RJ7h",
        "colab": {
          "base_uri": "https://localhost:8080/"
        },
        "outputId": "c007bfb7-8e6f-4477-994b-65f4a82edfa9"
      },
      "execution_count": null,
      "outputs": [
        {
          "output_type": "stream",
          "name": "stdout",
          "text": [
            "+--------------------+-----------+--------------------+-----------------------+-------------+--------------+-----------------+------------------------------------+----------------+-----------------------+----------------------+-------------------------+\n",
            "|      drg_definition|provider_id|       provider_name|provider_street_address|provider_city|provider_state|provider_zip_code|hospital_referral_region_description|total_discharges|average_covered_charges|average_total_payments|average_medicare_payments|\n",
            "+--------------------+-----------+--------------------+-----------------------+-------------+--------------+-----------------+------------------------------------+----------------+-----------------------+----------------------+-------------------------+\n",
            "|039 - EXTRACRANIA...|      10001|SOUTHEAST ALABAMA...|   1108 ROSS CLARK C...|       DOTHAN|            AL|            36301|                         AL - Dothan|              91|               32963.07|               5777.24|                  4763.73|\n",
            "|039 - EXTRACRANIA...|      10005|MARSHALL MEDICAL ...|   2505 U S HIGHWAY ...|         BOAZ|            AL|            35957|                     AL - Birmingham|              14|               15131.85|               5787.57|                  4976.71|\n",
            "|039 - EXTRACRANIA...|      10006|ELIZA COFFEE MEMO...|     205 MARENGO STREET|     FLORENCE|            AL|            35631|                     AL - Birmingham|              24|               37560.37|               5434.95|                  4453.79|\n",
            "|039 - EXTRACRANIA...|      10011|   ST VINCENT'S EAST|   50 MEDICAL PARK E...|   BIRMINGHAM|            AL|            35235|                     AL - Birmingham|              25|               13998.28|               5417.56|                  4129.16|\n",
            "|039 - EXTRACRANIA...|      10016|SHELBY BAPTIST ME...|   1000 FIRST STREET...|    ALABASTER|            AL|            35007|                     AL - Birmingham|              18|               31633.27|               5658.33|                  4851.44|\n",
            "|039 - EXTRACRANIA...|      10023|BAPTIST MEDICAL C...|   2105 EAST SOUTH B...|   MONTGOMERY|            AL|            36116|                     AL - Montgomery|              67|               16920.79|                6653.8|                  5374.14|\n",
            "|039 - EXTRACRANIA...|      10029|EAST ALABAMA MEDI...|   2000 PEPPERELL PA...|      OPELIKA|            AL|            36801|                     AL - Birmingham|              51|               11977.13|               5834.74|                  4761.41|\n",
            "|039 - EXTRACRANIA...|      10033|UNIVERSITY OF ALA...|   619 SOUTH 19TH ST...|   BIRMINGHAM|            AL|            35233|                     AL - Birmingham|              32|               35841.09|               8031.12|                   5858.5|\n",
            "|039 - EXTRACRANIA...|      10039| HUNTSVILLE HOSPITAL|          101 SIVLEY RD|   HUNTSVILLE|            AL|            35801|                     AL - Huntsville|             135|               28523.39|               6113.38|                   5228.4|\n",
            "|039 - EXTRACRANIA...|      10040|GADSDEN REGIONAL ...|   1007 GOODYEAR AVENUE|      GADSDEN|            AL|            35903|                     AL - Birmingham|              34|               75233.38|               5541.05|                  4386.94|\n",
            "|039 - EXTRACRANIA...|      10046|RIVERVIEW REGIONA...|   600 SOUTH THIRD S...|      GADSDEN|            AL|            35901|                     AL - Birmingham|              14|               67327.92|               5461.57|                  4493.57|\n",
            "|039 - EXTRACRANIA...|      10055|    FLOWERS HOSPITAL|   4370 WEST MAIN ST...|       DOTHAN|            AL|            36305|                         AL - Dothan|              45|               39607.28|               5356.28|                   4408.2|\n",
            "|039 - EXTRACRANIA...|      10056|ST VINCENT'S BIRM...|   810 ST VINCENT'S ...|   BIRMINGHAM|            AL|            35205|                     AL - Birmingham|              43|               22862.23|               5374.65|                  4186.02|\n",
            "|039 - EXTRACRANIA...|      10078|NORTHEAST ALABAMA...|   400 EAST 10TH STREET|     ANNISTON|            AL|            36207|                     AL - Birmingham|              21|               31110.85|               5366.23|                  4376.23|\n",
            "|039 - EXTRACRANIA...|      10083|SOUTH BALDWIN REG...|   1613 NORTH MCKENZ...|        FOLEY|            AL|            36535|                         AL - Mobile|              15|               25411.33|               5282.93|                  4383.73|\n",
            "|039 - EXTRACRANIA...|      10085|DECATUR GENERAL H...|     1201 7TH STREET SE|      DECATUR|            AL|            35609|                     AL - Huntsville|              27|                9234.51|               5676.55|                  4509.11|\n",
            "|039 - EXTRACRANIA...|      10090| PROVIDENCE HOSPITAL|   6801 AIRPORT BOUL...|       MOBILE|            AL|            36608|                         AL - Mobile|              27|               15895.85|               5930.11|                  3972.85|\n",
            "|039 - EXTRACRANIA...|      10092|D C H REGIONAL ME...|   809 UNIVERSITY BO...|   TUSCALOOSA|            AL|            35401|                     AL - Tuscaloosa|              31|               19721.16|               6192.54|                  5179.38|\n",
            "|039 - EXTRACRANIA...|      10100|     THOMAS HOSPITAL|      750 MORPHY AVENUE|     FAIRHOPE|            AL|            36532|                         AL - Mobile|              18|               10710.88|                4968.0|                  3898.88|\n",
            "|039 - EXTRACRANIA...|      10103|BAPTIST MEDICAL C...|   701 PRINCETON AVE...|   BIRMINGHAM|            AL|            35211|                     AL - Birmingham|              33|               51343.75|                5996.0|                  4962.45|\n",
            "+--------------------+-----------+--------------------+-----------------------+-------------+--------------+-----------------+------------------------------------+----------------+-----------------------+----------------------+-------------------------+\n",
            "only showing top 20 rows\n",
            "\n"
          ]
        }
      ]
    },
    {
      "cell_type": "code",
      "source": [
        "#Plot a Bar chart by state and \"Average Total Payments\" and zip code vs \"total_charges\"\n",
        "import matplotlib.pyplot as plt\n",
        "import pandas as pd\n",
        "from pyspark.sql.functions import col\n",
        "\n",
        "# convert the PySpark DataFrame to a Pandas DataFrame\n",
        "pandas_df = df_new.toPandas()\n",
        "\n",
        "# create the bar chart\n",
        "pandas_df.plot(kind='bar', x='provider_zip_code', y='total_discharges')\n",
        "plt.xlabel(\"provider_zip_code\")\n",
        "plt.ylabel(\"total_discharges\")\n",
        "plt.title(\"total discharges by zip code\")\n",
        "plt.show()\n",
        "\n",
        "\n"
      ],
      "metadata": {
        "id": "52t4pR-BR8qG",
        "colab": {
          "base_uri": "https://localhost:8080/",
          "height": 502
        },
        "outputId": "75605010-d2aa-4f63-ffa8-6f86154ef2b8"
      },
      "execution_count": null,
      "outputs": [
        {
          "output_type": "display_data",
          "data": {
            "text/plain": [
              "<Figure size 640x480 with 1 Axes>"
            ],
            "image/png": "[encoded data removed]"
          },
          "metadata": {}
        }
      ]
    },
    {
      "cell_type": "code",
      "source": [
        "#BONUS - Plot intersting statistics from the dataset"
      ],
      "metadata": {
        "id": "6unkHfqBSahu"
      },
      "execution_count": null,
      "outputs": []
    },
    {
      "cell_type": "code",
      "source": [
        "#Write the Dataset to a Parquet format partitioned by State\n",
        "df_new.write.mode(\"overwrite\").partitionBy(\"provider_state\").parquet(\"sample_data/parquet/\")\n",
        "df_read = spark.read.parquet(\"sample_data/parquet/\")\n",
        "\n",
        "# show the resulting dataframe\n",
        "df_read.show()"
      ],
      "metadata": {
        "id": "9G_U_KWzSfnq",
        "colab": {
          "base_uri": "https://localhost:8080/"
        },
        "outputId": "84314625-ce98-4bf6-d2ff-c5f46511d7d1"
      },
      "execution_count": null,
      "outputs": [
        {
          "output_type": "stream",
          "name": "stdout",
          "text": [
            "+--------------------+-----------+--------------------+-----------------------+-------------+-----------------+------------------------------------+----------------+-----------------------+----------------------+-------------------------+--------------+\n",
            "|      drg_definition|provider_id|       provider_name|provider_street_address|provider_city|provider_zip_code|hospital_referral_region_description|total_discharges|average_covered_charges|average_total_payments|average_medicare_payments|provider_state|\n",
            "+--------------------+-----------+--------------------+-----------------------+-------------+-----------------+------------------------------------+----------------+-----------------------+----------------------+-------------------------+--------------+\n",
            "|039 - EXTRACRANIA...|      50006|  ST JOSEPH HOSPITAL|        2700 DOLBEER ST|       EUREKA|            95501|                        CA - Redding|              48|               44664.45|               8227.14|                  6936.52|            CA|\n",
            "|039 - EXTRACRANIA...|      50007|PENINSULA MEDICAL...|   1501 TROUSDALE DRIVE|   BURLINGAME|            94010|                CA - San Mateo Co...|              16|               51950.87|                7863.0|                   6872.5|            CA|\n",
            "|039 - EXTRACRANIA...|      50013|  ST HELENA HOSPITAL|       10 WOODLAND ROAD| SAINT HELENA|            94574|                           CA - Napa|              17|              105929.47|                9438.0|                  8376.35|            CA|\n",
            "|039 - EXTRACRANIA...|      50017|MERCY GENERAL HOS...|              4001 J ST|   SACRAMENTO|            95819|                     CA - Sacramento|              27|               66207.66|              10863.22|                   6924.7|            CA|\n",
            "|039 - EXTRACRANIA...|      50026|  GROSSMONT HOSPITAL|   5555 GROSSMONT CE...|      LA MESA|            91942|                      CA - San Diego|              26|               40062.46|                7449.8|                  6358.07|            CA|\n",
            "|039 - EXTRACRANIA...|      50036|BAKERSFIELD MEMOR...|   420 34TH ST BOX 1888|  BAKERSFIELD|            93301|                    CA - Bakersfield|              21|                53334.8|               8012.23|                  6213.19|            CA|\n",
            "|039 - EXTRACRANIA...|      50039|ENLOE MEDICAL CENTER|         1531 ESPLANADE|        CHICO|            95926|                          CA - Chico|              56|                42446.3|               6967.73|                  5966.62|            CA|\n",
            "|039 - EXTRACRANIA...|      50056|ANTELOPE VALLEY H...|           1600 W AVE J|    LANCASTER|            93534|                    CA - Los Angeles|              15|               27027.93|               8333.86|                  6639.33|            CA|\n",
            "|039 - EXTRACRANIA...|      50057|KAWEAH DELTA MEDI...|   400 W MINERAL KIN...|      VISALIA|            93291|                    CA - Bakersfield|              52|               30686.01|               7562.26|                  6247.48|            CA|\n",
            "|039 - EXTRACRANIA...|      50058|GLENDALE MEM HOSP...|     1420 S CENTRAL AVE|     GLENDALE|            91204|                    CA - Los Angeles|              11|               65099.54|              11082.18|                  10056.0|            CA|\n",
            "|039 - EXTRACRANIA...|      50069|  ST JOSEPH HOSPITAL|   1100 WEST STEWART DR|       ORANGE|            92868|                  CA - Orange County|              40|               35690.02|                7188.9|                   6347.1|            CA|\n",
            "|039 - EXTRACRANIA...|      50077|SCRIPPS MERCY HOS...|           4077 5TH AVE|    SAN DIEGO|            92103|                      CA - San Diego|              13|                57187.3|               8791.69|                  7925.84|            CA|\n",
            "|039 - EXTRACRANIA...|      50082|ST JOHNS REGIONAL...|        1600 N ROSE AVE|       OXNARD|            93030|                        CA - Ventura|              28|               72051.89|               8009.17|                  6393.35|            CA|\n",
            "|039 - EXTRACRANIA...|      50084|ST JOSEPHS MED CE...|   1800 N CALIFORNIA ST|     STOCKTON|            95204|                       CA - Stockton|              66|               59184.74|                8628.4|                  7758.53|            CA|\n",
            "|039 - EXTRACRANIA...|      50093|SAINT AGNES MEDIC...|     1303 E HERNDON AVE|       FRESNO|            93710|                         CA - Fresno|              34|               41460.67|                7471.7|                  6580.29|            CA|\n",
            "|039 - EXTRACRANIA...|      50107|MARIAN MEDICAL CE...|       1400 E CHURCH ST|  SANTA MARIA|            93454|                  CA - Santa Barbara|              34|               51983.85|               7992.35|                  6967.76|            CA|\n",
            "|039 - EXTRACRANIA...|      50108|SUTTER GENERAL HO...|          2801 L STREET|   SACRAMENTO|            95816|                     CA - Sacramento|              67|               60997.16|               8894.85|                  7905.65|            CA|\n",
            "|039 - EXTRACRANIA...|      50115|PALOMAR MEDICAL C...|   555 E VALLEY PARKWAY|    ESCONDIDO|            92025|                      CA - San Diego|              12|               44775.91|               6992.33|                   5583.0|            CA|\n",
            "|039 - EXTRACRANIA...|      50128|TRI-CITY MEDICAL ...|         4002 VISTA WAY|    OCEANSIDE|            92056|                      CA - San Diego|              26|               52977.92|               7548.76|                   6598.3|            CA|\n",
            "|039 - EXTRACRANIA...|      50133|RIDEOUT MEMORIAL ...|             726 4TH ST|   MARYSVILLE|            95901|                     CA - Sacramento|              27|               45246.74|               7863.14|                   6946.7|            CA|\n",
            "+--------------------+-----------+--------------------+-----------------------+-------------+-----------------+------------------------------------+----------------+-----------------------+----------------------+-------------------------+--------------+\n",
            "only showing top 20 rows\n",
            "\n"
          ]
        }
      ]
    }
  ]
}